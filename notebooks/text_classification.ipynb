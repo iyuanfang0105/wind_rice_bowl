{
 "cells": [
  {
   "cell_type": "markdown",
   "metadata": {},
   "source": [
    "# Utils"
   ]
  },
  {
   "cell_type": "code",
   "execution_count": 1,
   "metadata": {},
   "outputs": [],
   "source": [
    "import re\n",
    "import jieba\n",
    "\n",
    "import pandas as pd\n",
    "import numpy as np\n",
    "import matplotlib.pyplot as plt\n",
    "plt.style.use('dark_background')\n",
    "\n",
    "from collections import Counter\n",
    "\n",
    "%matplotlib inline"
   ]
  },
  {
   "cell_type": "code",
   "execution_count": 2,
   "metadata": {},
   "outputs": [],
   "source": [
    "punctuation = \"，。！……？（）【】~!@#$%^&*()_+`{}|\\[\\]\\:\\\";\\-\\\\\\='<>?,./\"\n",
    "\n",
    "def convert_waimai_data_to_uniform_txt_corpus(file_path, is_remove_punctuation=True):\n",
    "    df = pd.read_csv(file_path)\n",
    "    X = df['review']\n",
    "    y = df['label']\n",
    "\n",
    "    # remove the punctuation\n",
    "    X_refined = []\n",
    "    for s in X:\n",
    "        if is_remove_punctuation:\n",
    "            s = re.sub(r'[{}]+'.format(punctuation), ' ', s)\n",
    "        s = [w for w in jieba.cut(s) if w.strip()]\n",
    "        X_refined.append(s)\n",
    "    return X_refined, y"
   ]
  },
  {
   "cell_type": "code",
   "execution_count": 3,
   "metadata": {},
   "outputs": [
    {
     "name": "stderr",
     "output_type": "stream",
     "text": [
      "Building prefix dict from the default dictionary ...\n",
      "Loading model from cache /tmp/jieba.cache\n",
      "Loading model cost 1.523 seconds.\n",
      "Prefix dict has been built successfully.\n"
     ]
    },
    {
     "name": "stdout",
     "output_type": "stream",
     "text": [
      "waimai_data: 11987\n",
      "waimai_label: 11987\n",
      "X_sample: ['很快', '好吃', '味道', '足', '量', '大'], y_sample: 1\n"
     ]
    }
   ],
   "source": [
    "file_path = '../data/waimai_10k.csv'\n",
    "waimai_data, waimai_label = convert_waimai_data_to_uniform_txt_corpus(file_path)\n",
    "print('waimai_data: {}'.format(len(waimai_data)))\n",
    "print('waimai_label: {}'.format(len(waimai_label)))\n",
    "print('X_sample: {}, y_sample: {}'.format(waimai_data[0], waimai_label[0]))"
   ]
  },
  {
   "cell_type": "markdown",
   "metadata": {},
   "source": [
    "# Corpus\n",
    "the class generating from copus functions"
   ]
  },
  {
   "cell_type": "code",
   "execution_count": 4,
   "metadata": {},
   "outputs": [],
   "source": [
    "class Corpus(object):\n",
    "    def __init__(self, corpus, vocab_size=5000):\n",
    "        self.vocab_size = vocab_size\n",
    "        self.corpus = corpus\n",
    "        self.word_to_id, self.id_to_word, self.word_frequency = self.build_vocab()\n",
    "\n",
    "    def build_vocab(self):\n",
    "        '''\n",
    "        build vocabulary for corpus\n",
    "        :return:\n",
    "        word_frequncy\n",
    "        word_to_id\n",
    "        id_to_word\n",
    "        '''\n",
    "        words = []\n",
    "        word_to_id = {'<UNK>': 0, '<START>': 1, '<END>': 2, '<PAD>': 3}\n",
    "        id_to_word = {0: '<UNK>', 1: '<START>', 2: '<END>', 3: '<PAD>'}\n",
    "        for sentence in self.corpus:\n",
    "            for w in sentence:\n",
    "                words.append(w)\n",
    "        word_frequncy = Counter(words).most_common(self.vocab_size - len(word_to_id))\n",
    "        for idx, (k, v) in enumerate(word_frequncy):\n",
    "            word_to_id[k] = idx + 4\n",
    "            id_to_word[idx+4] = k\n",
    "        return word_to_id, id_to_word, word_frequncy\n",
    "\n",
    "    def encoding_corpus_to_index(self, max_sentence_len):\n",
    "        '''\n",
    "\n",
    "        :param max_sentence_len:\n",
    "        :return:\n",
    "        '''\n",
    "        corpus_to_id = []\n",
    "        for s in self.corpus:\n",
    "            s_refined = []\n",
    "            for w in s[:max_sentence_len]:\n",
    "                if w in self.word_to_id.keys():\n",
    "                    s_refined.append(self.word_to_id[w])\n",
    "                else:\n",
    "                    s_refined.append(self.word_to_id['<UNK>'])\n",
    "            if len(s_refined) < max_sentence_len:\n",
    "                for i in range(max_sentence_len-len(s_refined)):\n",
    "                    s_refined.append(self.word_to_id['<PAD>'])\n",
    "            corpus_to_id.append(s_refined)\n",
    "        return corpus_to_id"
   ]
  },
  {
   "cell_type": "code",
   "execution_count": 5,
   "metadata": {},
   "outputs": [],
   "source": [
    "max_sentence_len=15\n",
    "corpus = Corpus(waimai_data, vocab_size=5000)\n",
    "corpus_indexed = corpus.encoding_corpus_to_index(max_sentence_len)"
   ]
  },
  {
   "cell_type": "code",
   "execution_count": 6,
   "metadata": {},
   "outputs": [
    {
     "name": "stdout",
     "output_type": "stream",
     "text": [
      "word frequency: [('了', 9398), ('的', 7840), ('很', 2244), ('都', 2182), ('是', 2144)]\n",
      "index: [55, 16, 14, 301, 90, 106, 3, 3, 3, 3, 3, 3, 3, 3, 3]\n",
      "string: ['很快', '好吃', '味道', '足', '量', '大', '<PAD>', '<PAD>', '<PAD>', '<PAD>', '<PAD>', '<PAD>', '<PAD>', '<PAD>', '<PAD>']\n"
     ]
    }
   ],
   "source": [
    "print('word frequency: {}'.format(corpus.word_frequency[:5]))\n",
    "print('index: {}'.format(corpus_indexed[0]))\n",
    "print('string: {}'.format([corpus.id_to_word[id] for id in corpus_indexed[0]]))"
   ]
  },
  {
   "cell_type": "markdown",
   "metadata": {},
   "source": [
    "# Text Classification"
   ]
  },
  {
   "cell_type": "code",
   "execution_count": 7,
   "metadata": {},
   "outputs": [
    {
     "name": "stderr",
     "output_type": "stream",
     "text": [
      "Using TensorFlow backend.\n"
     ]
    }
   ],
   "source": [
    "from keras.models import Sequential\n",
    "from keras.layers import Embedding, Flatten, Dense"
   ]
  },
  {
   "cell_type": "code",
   "execution_count": 8,
   "metadata": {},
   "outputs": [],
   "source": [
    "def build_model(vocab_size, max_sentence_length):\n",
    "    model = Sequential()\n",
    "    model.add(Embedding(vocab_size, 8, input_length=max_sentence_length))\n",
    "    model.add(Flatten())\n",
    "    model.add(Dense(1, activation='sigmoid'))\n",
    "    # compile the model\n",
    "    model.compile(optimizer='adam', loss='binary_crossentropy', metrics=['accuracy'])\n",
    "\n",
    "    return model\n",
    "\n",
    "\n",
    "def train(model, X, y, epochs=50):\n",
    "    history = model.fit(X, y, epochs=50)\n",
    "    return model, history\n",
    "\n",
    "\n",
    "def predict(model, X):\n",
    "    return model.predict(X)"
   ]
  },
  {
   "cell_type": "code",
   "execution_count": 9,
   "metadata": {},
   "outputs": [
    {
     "name": "stdout",
     "output_type": "stream",
     "text": [
      "Model: \"sequential_1\"\n",
      "_________________________________________________________________\n",
      "Layer (type)                 Output Shape              Param #   \n",
      "=================================================================\n",
      "embedding_1 (Embedding)      (None, 15, 8)             40000     \n",
      "_________________________________________________________________\n",
      "flatten_1 (Flatten)          (None, 120)               0         \n",
      "_________________________________________________________________\n",
      "dense_1 (Dense)              (None, 1)                 121       \n",
      "=================================================================\n",
      "Total params: 40,121\n",
      "Trainable params: 40,121\n",
      "Non-trainable params: 0\n",
      "_________________________________________________________________\n",
      "None\n"
     ]
    }
   ],
   "source": [
    "model = build_model(corpus.vocab_size, max_sentence_len)\n",
    "print(model.summary())"
   ]
  },
  {
   "cell_type": "code",
   "execution_count": 10,
   "metadata": {},
   "outputs": [
    {
     "data": {
      "text/plain": [
       "((11987, 15), (11987,))"
      ]
     },
     "execution_count": 10,
     "metadata": {},
     "output_type": "execute_result"
    }
   ],
   "source": [
    "X = np.asarray(corpus_indexed)\n",
    "y = np.asarray(waimai_label)\n",
    "X.shape, y.shape"
   ]
  },
  {
   "cell_type": "code",
   "execution_count": 11,
   "metadata": {},
   "outputs": [
    {
     "name": "stderr",
     "output_type": "stream",
     "text": [
      "/root/wind/env/wind_py3_comm/lib64/python3.6/site-packages/tensorflow_core/python/framework/indexed_slices.py:433: UserWarning: Converting sparse IndexedSlices to a dense Tensor of unknown shape. This may consume a large amount of memory.\n",
      "  \"Converting sparse IndexedSlices to a dense Tensor of unknown shape. \"\n"
     ]
    },
    {
     "name": "stdout",
     "output_type": "stream",
     "text": [
      "Epoch 1/50\n",
      "11987/11987 [==============================] - 1s 69us/step - loss: 0.5592 - accuracy: 0.7417\n",
      "Epoch 2/50\n",
      "11987/11987 [==============================] - 1s 51us/step - loss: 0.3422 - accuracy: 0.8690\n",
      "Epoch 3/50\n",
      "11987/11987 [==============================] - 1s 50us/step - loss: 0.2753 - accuracy: 0.8988\n",
      "Epoch 4/50\n",
      "11987/11987 [==============================] - 1s 49us/step - loss: 0.2392 - accuracy: 0.9132\n",
      "Epoch 5/50\n",
      "11987/11987 [==============================] - 1s 49us/step - loss: 0.2136 - accuracy: 0.9233\n",
      "Epoch 6/50\n",
      "11987/11987 [==============================] - 1s 51us/step - loss: 0.1928 - accuracy: 0.9323\n",
      "Epoch 7/50\n",
      "11987/11987 [==============================] - 1s 51us/step - loss: 0.1752 - accuracy: 0.9384\n",
      "Epoch 8/50\n",
      "11987/11987 [==============================] - 1s 52us/step - loss: 0.1597 - accuracy: 0.9467\n",
      "Epoch 9/50\n",
      "11987/11987 [==============================] - 1s 54us/step - loss: 0.1464 - accuracy: 0.9517\n",
      "Epoch 10/50\n",
      "11987/11987 [==============================] - 1s 52us/step - loss: 0.1345 - accuracy: 0.9563\n",
      "Epoch 11/50\n",
      "11987/11987 [==============================] - 1s 51us/step - loss: 0.1238 - accuracy: 0.9597\n",
      "Epoch 12/50\n",
      "11987/11987 [==============================] - 1s 51us/step - loss: 0.1141 - accuracy: 0.9640\n",
      "Epoch 13/50\n",
      "11987/11987 [==============================] - 1s 50us/step - loss: 0.1057 - accuracy: 0.9673\n",
      "Epoch 14/50\n",
      "11987/11987 [==============================] - 1s 50us/step - loss: 0.0980 - accuracy: 0.9711\n",
      "Epoch 15/50\n",
      "11987/11987 [==============================] - 1s 52us/step - loss: 0.0912 - accuracy: 0.9736\n",
      "Epoch 16/50\n",
      "11987/11987 [==============================] - 1s 53us/step - loss: 0.0848 - accuracy: 0.9756\n",
      "Epoch 17/50\n",
      "11987/11987 [==============================] - 1s 57us/step - loss: 0.0796 - accuracy: 0.9771\n",
      "Epoch 18/50\n",
      "11987/11987 [==============================] - 1s 55us/step - loss: 0.0745 - accuracy: 0.9780\n",
      "Epoch 19/50\n",
      "11987/11987 [==============================] - 1s 56us/step - loss: 0.0699 - accuracy: 0.9798\n",
      "Epoch 20/50\n",
      "11987/11987 [==============================] - 1s 53us/step - loss: 0.0662 - accuracy: 0.9806\n",
      "Epoch 21/50\n",
      "11987/11987 [==============================] - 1s 49us/step - loss: 0.0621 - accuracy: 0.9819\n",
      "Epoch 22/50\n",
      "11987/11987 [==============================] - 1s 51us/step - loss: 0.0589 - accuracy: 0.9826\n",
      "Epoch 23/50\n",
      "11987/11987 [==============================] - 1s 55us/step - loss: 0.0558 - accuracy: 0.9836\n",
      "Epoch 24/50\n",
      "11987/11987 [==============================] - 1s 59us/step - loss: 0.0531 - accuracy: 0.9847\n",
      "Epoch 25/50\n",
      "11987/11987 [==============================] - 1s 54us/step - loss: 0.0507 - accuracy: 0.9848\n",
      "Epoch 26/50\n",
      "11987/11987 [==============================] - 1s 51us/step - loss: 0.0482 - accuracy: 0.9859\n",
      "Epoch 27/50\n",
      "11987/11987 [==============================] - 1s 56us/step - loss: 0.0463 - accuracy: 0.9860\n",
      "Epoch 28/50\n",
      "11987/11987 [==============================] - 1s 53us/step - loss: 0.0441 - accuracy: 0.9868\n",
      "Epoch 29/50\n",
      "11987/11987 [==============================] - 1s 52us/step - loss: 0.0426 - accuracy: 0.9872\n",
      "Epoch 30/50\n",
      "11987/11987 [==============================] - 1s 51us/step - loss: 0.0410 - accuracy: 0.9868\n",
      "Epoch 31/50\n",
      "11987/11987 [==============================] - 1s 51us/step - loss: 0.0391 - accuracy: 0.9880\n",
      "Epoch 32/50\n",
      "11987/11987 [==============================] - 1s 54us/step - loss: 0.0376 - accuracy: 0.9875\n",
      "Epoch 33/50\n",
      "11987/11987 [==============================] - 1s 54us/step - loss: 0.0364 - accuracy: 0.9887\n",
      "Epoch 34/50\n",
      "11987/11987 [==============================] - 1s 54us/step - loss: 0.0351 - accuracy: 0.9892\n",
      "Epoch 35/50\n",
      "11987/11987 [==============================] - 1s 53us/step - loss: 0.0340 - accuracy: 0.9894\n",
      "Epoch 36/50\n",
      "11987/11987 [==============================] - 1s 52us/step - loss: 0.0328 - accuracy: 0.9893\n",
      "Epoch 37/50\n",
      "11987/11987 [==============================] - 1s 50us/step - loss: 0.0318 - accuracy: 0.9896\n",
      "Epoch 38/50\n",
      "11987/11987 [==============================] - 1s 50us/step - loss: 0.0307 - accuracy: 0.9899\n",
      "Epoch 39/50\n",
      "11987/11987 [==============================] - 1s 49us/step - loss: 0.0298 - accuracy: 0.9899\n",
      "Epoch 40/50\n",
      "11987/11987 [==============================] - 1s 49us/step - loss: 0.0291 - accuracy: 0.9904\n",
      "Epoch 41/50\n",
      "11987/11987 [==============================] - 1s 51us/step - loss: 0.0281 - accuracy: 0.9908\n",
      "Epoch 42/50\n",
      "11987/11987 [==============================] - 1s 51us/step - loss: 0.0271 - accuracy: 0.9908\n",
      "Epoch 43/50\n",
      "11987/11987 [==============================] - 1s 50us/step - loss: 0.0265 - accuracy: 0.9917\n",
      "Epoch 44/50\n",
      "11987/11987 [==============================] - 1s 49us/step - loss: 0.0259 - accuracy: 0.9911\n",
      "Epoch 45/50\n",
      "11987/11987 [==============================] - 1s 49us/step - loss: 0.0250 - accuracy: 0.9921\n",
      "Epoch 46/50\n",
      "11987/11987 [==============================] - 1s 49us/step - loss: 0.0244 - accuracy: 0.9925\n",
      "Epoch 47/50\n",
      "11987/11987 [==============================] - 1s 48us/step - loss: 0.0238 - accuracy: 0.9922\n",
      "Epoch 48/50\n",
      "11987/11987 [==============================] - 1s 50us/step - loss: 0.0234 - accuracy: 0.9919\n",
      "Epoch 49/50\n",
      "11987/11987 [==============================] - 1s 52us/step - loss: 0.0225 - accuracy: 0.9932\n",
      "Epoch 50/50\n",
      "11987/11987 [==============================] - 1s 55us/step - loss: 0.0222 - accuracy: 0.9926\n"
     ]
    }
   ],
   "source": [
    "model, history = train(model, X, y)"
   ]
  },
  {
   "cell_type": "code",
   "execution_count": 12,
   "metadata": {},
   "outputs": [
    {
     "data": {
      "image/png": "[encoded data removed]",
      "text/plain": [
       "<Figure size 432x288 with 1 Axes>"
      ]
     },
     "metadata": {
      "needs_background": "dark"
     },
     "output_type": "display_data"
    }
   ],
   "source": [
    "plt.plot(history.history['loss'], 'r*', label='LOSS')\n",
    "plt.plot(history.history['accuracy'], 'b^', label='ACCURACY')\n",
    "plt.legend()\n",
    "plt.tight_layout()"
   ]
  },
  {
   "cell_type": "code",
   "execution_count": null,
   "metadata": {},
   "outputs": [],
   "source": []
  }
 ],
 "metadata": {
  "kernelspec": {
   "display_name": "wind_py3_comm",
   "language": "python",
   "name": "wind_py3_comm"
  },
  "language_info": {
   "codemirror_mode": {
    "name": "ipython",
    "version": 3
   },
   "file_extension": ".py",
   "mimetype": "text/x-python",
   "name": "python",
   "nbconvert_exporter": "python",
   "pygments_lexer": "ipython3",
   "version": "3.6.8"
  },
  "toc": {
   "base_numbering": 1.0,
   "nav_menu": {},
   "number_sections": true,
   "sideBar": true,
   "skip_h1_title": false,
   "title_cell": "Table of Contents",
   "title_sidebar": "Contents",
   "toc_cell": false,
   "toc_position": {},
   "toc_section_display": true,
   "toc_window_display": true
  }
 },
 "nbformat": 4,
 "nbformat_minor": 4
}
